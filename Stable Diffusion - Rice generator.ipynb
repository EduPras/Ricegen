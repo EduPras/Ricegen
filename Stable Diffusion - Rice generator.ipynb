{
  "nbformat": 4,
  "nbformat_minor": 0,
  "metadata": {
    "colab": {
      "provenance": [],
      "gpuType": "T4",
      "collapsed_sections": [
        "gUJ9BlYZVtY5",
        "-WkYpjBXV2O4",
        "QRU1oKlUVz1I",
        "6UHTUADig1VG",
        "CLGKffCmg7w1",
        "EaYmAUAEg_0n",
        "h5HOtd9ggxiV"
      ],
      "toc_visible": true
    },
    "kernelspec": {
      "name": "python3",
      "display_name": "Python 3"
    },
    "language_info": {
      "name": "python"
    },
    "accelerator": "GPU"
  },
  "cells": [
    {
      "cell_type": "markdown",
      "source": [
        "Parameters"
      ],
      "metadata": {
        "id": "o5EjgjrUIMq9"
      }
    },
    {
      "cell_type": "code",
      "source": [
        "IMAGE_SHAPE = (16, 16)\n",
        "BATCH_SIZE = 64\n",
        "NO_EPOCHS = 100\n",
        "PRINT_FREQUENCY = 10\n",
        "LR = 0.0003\n",
        "VERBOSE = True\n",
        "LABELS = True"
      ],
      "metadata": {
        "id": "h0Dt61rmXlJL"
      },
      "execution_count": 1,
      "outputs": []
    },
    {
      "cell_type": "markdown",
      "source": [
        "# Imports"
      ],
      "metadata": {
        "id": "lZYPD_G_Vp8Z"
      }
    },
    {
      "cell_type": "code",
      "execution_count": 59,
      "metadata": {
        "id": "vaA4flLr9nCq"
      },
      "outputs": [],
      "source": [
        "import torch\n",
        "import torchvision\n",
        "import matplotlib.pyplot as plt\n",
        "import numpy as np\n",
        "import torchvision.transforms as transforms\n",
        "import torch.nn as nn\n",
        "import math\n",
        "import matplotlib.pyplot as plt\n",
        "import torch\n",
        "import urllib\n",
        "import random\n",
        "import PIL\n",
        "import glob\n",
        "from IPython.display import Image"
      ]
    },
    {
      "cell_type": "code",
      "source": [
        "device = 'cuda' if torch.cuda.is_available() else 'cpu'\n",
        "device"
      ],
      "metadata": {
        "colab": {
          "base_uri": "https://localhost:8080/",
          "height": 35
        },
        "id": "aCVJiQACVDgT",
        "outputId": "1c96ff4b-4c22-435a-d59b-1514bd1daa70"
      },
      "execution_count": 19,
      "outputs": [
        {
          "output_type": "execute_result",
          "data": {
            "text/plain": [
              "'cuda'"
            ],
            "application/vnd.google.colaboratory.intrinsic+json": {
              "type": "string"
            }
          },
          "metadata": {},
          "execution_count": 19
        }
      ]
    },
    {
      "cell_type": "markdown",
      "source": [
        "# Models"
      ],
      "metadata": {
        "id": "KM_lwJ3-HQVG"
      }
    },
    {
      "cell_type": "markdown",
      "source": [
        "## Functions"
      ],
      "metadata": {
        "id": "gUJ9BlYZVtY5"
      }
    },
    {
      "cell_type": "code",
      "source": [
        "class DiffusionModel:\n",
        "    def __init__(self, start_schedule=0.0001, end_schedule=0.02, timesteps = 300):\n",
        "        self.start_schedule = start_schedule\n",
        "        self.end_schedule = end_schedule\n",
        "        self.timesteps = timesteps\n",
        "\n",
        "        self.betas = torch.linspace(start_schedule, end_schedule, timesteps)\n",
        "        self.alphas = 1 - self.betas\n",
        "        self.alphas_cumprod = torch.cumprod(self.alphas, axis=0)\n",
        "\n",
        "    def forward(self, x_0, t, device):\n",
        "        noise = torch.randn_like(x_0)\n",
        "        sqrt_alphas_cumprod_t = self.get_index_from_list(self.alphas_cumprod.sqrt(), t, x_0.shape)\n",
        "        sqrt_one_minus_alphas_cumprod_t = self.get_index_from_list(torch.sqrt(1. - self.alphas_cumprod), t, x_0.shape)\n",
        "\n",
        "        mean = sqrt_alphas_cumprod_t.to(device) * x_0.to(device)\n",
        "        variance = sqrt_one_minus_alphas_cumprod_t.to(device) * noise.to(device)\n",
        "\n",
        "        return mean + variance, noise.to(device)\n",
        "\n",
        "    @torch.no_grad()\n",
        "    def backward(self, x, t, model, **kwargs):\n",
        "        betas_t = self.get_index_from_list(self.betas, t, x.shape)\n",
        "        sqrt_one_minus_alphas_cumprod_t = self.get_index_from_list(torch.sqrt(1. - self.alphas_cumprod), t, x.shape)\n",
        "        sqrt_recip_alphas_t = self.get_index_from_list(torch.sqrt(1.0 / self.alphas), t, x.shape)\n",
        "        mean = sqrt_recip_alphas_t * (x - betas_t * model(x, t, **kwargs) / sqrt_one_minus_alphas_cumprod_t)\n",
        "        posterior_variance_t = betas_t\n",
        "\n",
        "        if t == 0:\n",
        "            return mean\n",
        "        else:\n",
        "            noise = torch.randn_like(x)\n",
        "            variance = torch.sqrt(posterior_variance_t) * noise\n",
        "            return mean + variance\n",
        "\n",
        "    @staticmethod\n",
        "    def get_index_from_list(values, t, x_shape):\n",
        "        batch_size = t.shape[0]\n",
        "        result = values.gather(-1, t.cpu())\n",
        "        return result.reshape(batch_size, *((1,) * (len(x_shape) - 1))).to(t.device)"
      ],
      "metadata": {
        "id": "8JxFRRX0VuB4"
      },
      "execution_count": 58,
      "outputs": []
    },
    {
      "cell_type": "markdown",
      "source": [
        "## Unet"
      ],
      "metadata": {
        "id": "-WkYpjBXV2O4"
      }
    },
    {
      "cell_type": "code",
      "source": [
        "class SinusoidalPositionEmbeddings(nn.Module):\n",
        "    def __init__(self, dim):\n",
        "        super().__init__()\n",
        "        self.dim = dim\n",
        "\n",
        "    def forward(self, time):\n",
        "        device = time.device\n",
        "        half_dim = self.dim // 2\n",
        "        embeddings = math.log(10000) / (half_dim - 1)\n",
        "        embeddings = torch.exp(torch.arange(half_dim, device=device) * -embeddings)\n",
        "        embeddings = time[:, None] * embeddings[None, :]\n",
        "        embeddings = torch.cat((embeddings.sin(), embeddings.cos()), dim=-1)\n",
        "        return embeddings"
      ],
      "metadata": {
        "id": "OdNr0tdPXMHl"
      },
      "execution_count": 4,
      "outputs": []
    },
    {
      "cell_type": "code",
      "source": [
        "class Block(nn.Module):\n",
        "    def __init__(self, channels_in, channels_out, time_embedding_dims, labels, num_filters = 3, downsample=True):\n",
        "        super().__init__()\n",
        "\n",
        "        self.time_embedding_dims = time_embedding_dims\n",
        "        self.time_embedding = SinusoidalPositionEmbeddings(time_embedding_dims)\n",
        "        self.labels = labels\n",
        "        if labels:\n",
        "            self.label_mlp = nn.Linear(1, channels_out)\n",
        "\n",
        "        self.downsample = downsample\n",
        "\n",
        "        if downsample:\n",
        "            self.conv1 = nn.Conv2d(channels_in, channels_out, num_filters, padding=1)\n",
        "            self.final = nn.Conv2d(channels_out, channels_out, 4, 2, 1)\n",
        "        else:\n",
        "            self.conv1 = nn.Conv2d(2 * channels_in, channels_out, num_filters, padding=1)\n",
        "            self.final = nn.ConvTranspose2d(channels_out, channels_out, 4, 2, 1)\n",
        "\n",
        "        self.bnorm1 = nn.BatchNorm2d(channels_out)\n",
        "        self.bnorm2 = nn.BatchNorm2d(channels_out)\n",
        "\n",
        "        self.conv2 = nn.Conv2d(channels_out, channels_out, 3, padding=1)\n",
        "        self.time_mlp = nn.Linear(time_embedding_dims, channels_out)\n",
        "        self.relu = nn.ReLU()\n",
        "\n",
        "    def forward(self, x, t, **kwargs):\n",
        "        o = self.bnorm1(self.relu(self.conv1(x)))\n",
        "        o_time = self.relu(self.time_mlp(self.time_embedding(t)))\n",
        "        o = o + o_time[(..., ) + (None, ) * 2]\n",
        "        if self.labels:\n",
        "            label = kwargs.get('labels')\n",
        "            o_label = self.relu(self.label_mlp(label))\n",
        "            o = o + o_label[(..., ) + (None, ) * 2]\n",
        "\n",
        "        o = self.bnorm2(self.relu(self.conv2(o)))\n",
        "\n",
        "        return self.final(o)"
      ],
      "metadata": {
        "id": "i_KCBZKtXQOF"
      },
      "execution_count": 5,
      "outputs": []
    },
    {
      "cell_type": "code",
      "source": [
        "class UNet(nn.Module):\n",
        "    def __init__(self, img_channels = 3, time_embedding_dims = 128, labels = False, sequence_channels = (64, 128, 256, 512, 1024)):\n",
        "        super().__init__()\n",
        "        self.time_embedding_dims = time_embedding_dims\n",
        "        sequence_channels_rev = reversed(sequence_channels)\n",
        "\n",
        "        self.downsampling = nn.ModuleList([Block(channels_in, channels_out, time_embedding_dims, labels) for channels_in, channels_out in zip(sequence_channels, sequence_channels[1:])])\n",
        "        self.upsampling = nn.ModuleList([Block(channels_in, channels_out, time_embedding_dims, labels,downsample=False) for channels_in, channels_out in zip(sequence_channels[::-1], sequence_channels[::-1][1:])])\n",
        "        self.conv1 = nn.Conv2d(img_channels, sequence_channels[0], 3, padding=1)\n",
        "        self.conv2 = nn.Conv2d(sequence_channels[0], img_channels, 1)\n",
        "\n",
        "\n",
        "    def forward(self, x, t, **kwargs):\n",
        "        residuals = []\n",
        "        o = self.conv1(x)\n",
        "        for ds in self.downsampling:\n",
        "            o = ds(o, t, **kwargs)\n",
        "            residuals.append(o)\n",
        "        for us, res in zip(self.upsampling, reversed(residuals)):\n",
        "            o = us(torch.cat((o, res), dim=1), t, **kwargs)\n",
        "\n",
        "        return self.conv2(o)"
      ],
      "metadata": {
        "id": "eVz3lJHyXfk8"
      },
      "execution_count": 6,
      "outputs": []
    },
    {
      "cell_type": "markdown",
      "source": [
        "## Transforms"
      ],
      "metadata": {
        "id": "QRU1oKlUVz1I"
      }
    },
    {
      "cell_type": "code",
      "source": [
        "transform = transforms.Compose([\n",
        "    transforms.Resize(IMAGE_SHAPE), # Resize the input image\n",
        "    transforms.ToTensor(), # Convert to torch tensor (scales data into [0,1])\n",
        "    transforms.Lambda(lambda t: (t * 2) - 1), # Scale data between [-1, 1]\n",
        "])\n",
        "\n",
        "\n",
        "reverse_transform = transforms.Compose([\n",
        "    transforms.Lambda(lambda t: (t + 1) / 2), # Scale data between [0,1]\n",
        "    transforms.Lambda(lambda t: t.permute(1, 2, 0)), # CHW to HWC\n",
        "    transforms.Lambda(lambda t: t * 255.), # Scale data between [0.,255.]\n",
        "    transforms.Lambda(lambda t: t.cpu().numpy().astype(np.uint8)), # Convert into an uint8 numpy array\n",
        "    transforms.ToPILImage(), # Convert to PIL image\n",
        "])"
      ],
      "metadata": {
        "id": "NuO7pPNTWxDj"
      },
      "execution_count": 7,
      "outputs": []
    },
    {
      "cell_type": "code",
      "source": [
        "diffusion_model = DiffusionModel()"
      ],
      "metadata": {
        "id": "8ft2cPBeW0YH"
      },
      "execution_count": 8,
      "outputs": []
    },
    {
      "cell_type": "markdown",
      "source": [
        "# Load data"
      ],
      "metadata": {
        "id": "VHHzMOC6VlCp"
      }
    },
    {
      "cell_type": "code",
      "source": [
        "class CustomDataset(torch.utils.data.Dataset):\n",
        "    def __init__(self, subset, transform=None, labels=False):\n",
        "        self.subset = subset\n",
        "        self.transform = transform\n",
        "        self.labels = labels\n",
        "\n",
        "    def __getitem__(self, index):\n",
        "        if not self.labels:\n",
        "          x = self.subset[index]\n",
        "          x = x.convert('RGB')\n",
        "          if self.transform:\n",
        "            x = self.transform(x)\n",
        "          return x\n",
        "        else:\n",
        "          x, y = self.subset[index]\n",
        "          x = x.convert('RGB')\n",
        "          if self.transform:\n",
        "            x = self.transform(x)\n",
        "          return x, y\n",
        "\n",
        "    def __len__(self):\n",
        "        return len(self.subset)"
      ],
      "metadata": {
        "id": "h-VCYIEm3i8o"
      },
      "execution_count": 9,
      "outputs": []
    },
    {
      "cell_type": "code",
      "source": [
        "from google.colab import drive\n",
        "drive.mount('/content/drive')"
      ],
      "metadata": {
        "colab": {
          "base_uri": "https://localhost:8080/"
        },
        "id": "GDTPmV-o86r4",
        "outputId": "6c4b7e97-623b-4016-faf9-3d5e9bf9c350"
      },
      "execution_count": 10,
      "outputs": [
        {
          "output_type": "stream",
          "name": "stdout",
          "text": [
            "Mounted at /content/drive\n"
          ]
        }
      ]
    },
    {
      "cell_type": "code",
      "source": [
        "# if not extracted\n",
        "# import os\n",
        "# os.chdir('/content/drive/MyDrive/LAMIA_final-project/Rice-dataset')\n",
        "# ! unzip imgs_with_label.zip -d imgs_with_label"
      ],
      "metadata": {
        "id": "m-mR_OlICCc7"
      },
      "execution_count": 11,
      "outputs": []
    },
    {
      "cell_type": "code",
      "source": [
        "import os\n",
        "from PIL import Image\n",
        "\n",
        "DRIVE_PATH = '/content/drive/MyDrive/LAMIA_final-project/Rice-dataset/imgs_with_label/imgs_with_label'\n",
        "\n",
        "os.chdir(DRIVE_PATH)\n",
        "current_directory = os.getcwd()\n",
        "classes = os.listdir(current_directory)\n",
        "dict_classes = {}\n",
        "for i, clx in enumerate(classes):\n",
        "  dict_classes[clx] = i\n",
        "raw_data = []\n",
        "for cls in classes:\n",
        "  if cls == 'Rice_Citation_Request.txt':\n",
        "    continue\n",
        "  os.chdir(cls)\n",
        "  current_directory = os.getcwd()\n",
        "  imgs = os.listdir(current_directory)\n",
        "  print(len(imgs))\n",
        "  for item in imgs:\n",
        "    raw_data.append((Image.open(item), dict_classes[cls]))\n",
        "  os.chdir('../')\n",
        "os.chdir('/content')"
      ],
      "metadata": {
        "id": "LWLrUNxwQcbd",
        "colab": {
          "base_uri": "https://localhost:8080/"
        },
        "outputId": "3b07af4f-0f25-45fe-c641-d127abf33d8d"
      },
      "execution_count": 11,
      "outputs": [
        {
          "output_type": "stream",
          "name": "stdout",
          "text": [
            "1000\n",
            "1000\n",
            "1000\n",
            "1000\n",
            "1000\n"
          ]
        }
      ]
    },
    {
      "cell_type": "code",
      "source": [
        "random.shuffle(raw_data)"
      ],
      "metadata": {
        "id": "Dk3Os3thJzNn"
      },
      "execution_count": 12,
      "outputs": []
    },
    {
      "cell_type": "code",
      "source": [
        "raw_data[:5]"
      ],
      "metadata": {
        "colab": {
          "base_uri": "https://localhost:8080/"
        },
        "id": "9LQfDQEJFgUy",
        "outputId": "56b3cd19-ec1e-4b1d-d6f0-c019968f3cf2"
      },
      "execution_count": 13,
      "outputs": [
        {
          "output_type": "execute_result",
          "data": {
            "text/plain": [
              "[(<PIL.JpegImagePlugin.JpegImageFile image mode=RGB size=250x250>, 0),\n",
              " (<PIL.JpegImagePlugin.JpegImageFile image mode=RGB size=250x250>, 3),\n",
              " (<PIL.JpegImagePlugin.JpegImageFile image mode=RGB size=250x250>, 0),\n",
              " (<PIL.JpegImagePlugin.JpegImageFile image mode=RGB size=250x250>, 2),\n",
              " (<PIL.JpegImagePlugin.JpegImageFile image mode=RGB size=250x250>, 3)]"
            ]
          },
          "metadata": {},
          "execution_count": 13
        }
      ]
    },
    {
      "cell_type": "code",
      "source": [
        "SPLIT_TRAIN_TEST = 1000\n",
        "train_data = raw_data[:SPLIT_TRAIN_TEST]\n",
        "test_data = raw_data[SPLIT_TRAIN_TEST:]\n",
        "\n",
        "train_dataset = CustomDataset(train_data, transform=transform, labels=LABELS)\n",
        "train_loader = torch.utils.data.DataLoader(train_dataset, batch_size=BATCH_SIZE, shuffle=True, num_workers=2, drop_last=True)\n",
        "\n",
        "test_dataset = CustomDataset(train_data, transform=transform, labels=LABELS)\n",
        "test_loader = torch.utils.data.DataLoader(train_dataset, batch_size=BATCH_SIZE, shuffle=True, num_workers=2, drop_last=True)"
      ],
      "metadata": {
        "id": "jiJ7H8b0ZiUI"
      },
      "execution_count": 14,
      "outputs": []
    },
    {
      "cell_type": "code",
      "source": [
        "import torchvision.transforms as T\n",
        "from PIL import Image\n",
        "trans = T.ToPILImage()\n",
        "img = trans(train_dataset.__getitem__(3)[0])\n",
        "img"
      ],
      "metadata": {
        "colab": {
          "base_uri": "https://localhost:8080/",
          "height": 34
        },
        "id": "FDB0FQvUdBUS",
        "outputId": "f22640dd-c111-4aa4-837c-f64a08041ad1"
      },
      "execution_count": 15,
      "outputs": [
        {
          "output_type": "execute_result",
          "data": {
            "text/plain": [
              "<PIL.Image.Image image mode=RGB size=16x16>"
            ],
            "image/png": "[encoded data removed]"
          },
          "metadata": {},
          "execution_count": 15
        }
      ]
    },
    {
      "cell_type": "markdown",
      "source": [
        "# Train model"
      ],
      "metadata": {
        "id": "LovFoTHCV8PI"
      }
    },
    {
      "cell_type": "code",
      "source": [
        "from PIL import ImageFile\n",
        "ImageFile.LOAD_TRUNCATED_IMAGES = True"
      ],
      "metadata": {
        "id": "5xKPDV2FVs2E"
      },
      "execution_count": 16,
      "outputs": []
    },
    {
      "cell_type": "code",
      "source": [
        "unet = UNet(labels=LABELS)\n",
        "unet.to(device)\n",
        "optimizer = torch.optim.Adam(unet.parameters(), lr=LR)"
      ],
      "metadata": {
        "id": "RRxgPQ7hIH4O"
      },
      "execution_count": 21,
      "outputs": []
    },
    {
      "cell_type": "code",
      "source": [
        "epoch_loss = []\n",
        "epoch_loss_val = []\n",
        "to_gif = []\n",
        "for epoch in range(NO_EPOCHS):\n",
        "    mean_epoch_loss = []\n",
        "    mean_epoch_loss_val = []\n",
        "    for batch, label in train_loader:\n",
        "        label = torch.Tensor(label)\n",
        "        t = torch.randint(0, diffusion_model.timesteps, (BATCH_SIZE,)).long().to(device)\n",
        "        batch = batch.to(device)\n",
        "        batch_noisy, noise = diffusion_model.forward(batch, t, device)\n",
        "        predicted_noise = unet(batch_noisy, t, labels = label.reshape(-1,1).float().to(device))\n",
        "\n",
        "        optimizer.zero_grad()\n",
        "        loss = torch.nn.functional.mse_loss(noise, predicted_noise)\n",
        "        mean_epoch_loss.append(loss.item())\n",
        "        loss.backward()\n",
        "        optimizer.step()\n",
        "\n",
        "    for batch, label in test_loader:\n",
        "        t = torch.randint(0, diffusion_model.timesteps, (BATCH_SIZE,)).long().to(device)\n",
        "        batch = batch.to(device)\n",
        "\n",
        "        batch_noisy, noise = diffusion_model.forward(batch, t, device)\n",
        "        predicted_noise = unet(batch_noisy, t, labels = label.reshape(-1,1).float().to(device))\n",
        "\n",
        "        loss = torch.nn.functional.mse_loss(noise, predicted_noise)\n",
        "        mean_epoch_loss_val.append(loss.item())\n",
        "\n",
        "    img = torch.randn((1, 3) + IMAGE_SHAPE).to(device)\n",
        "    for i in reversed(range(diffusion_model.timesteps)):\n",
        "        t = torch.full((1,), i, dtype=torch.long, device=device)\n",
        "        labels = torch.tensor([0]*1).resize(1, 1).float().to(device)\n",
        "        img = diffusion_model.backward(x=img, t=t, model=unet.eval().to(device), labels=labels)\n",
        "    to_gif.append(img.squeeze())\n",
        "\n",
        "    epoch_loss.append(np.mean(mean_epoch_loss))\n",
        "    epoch_loss_val.append(np.mean(mean_epoch_loss_val))\n",
        "\n",
        "    if epoch % PRINT_FREQUENCY == 0:\n",
        "        print('---')\n",
        "        print(f\"Epoch: {epoch} | Train Loss {np.mean(mean_epoch_loss)} | Val Loss {np.mean(mean_epoch_loss_val)}\")\n",
        "        torch.save(unet.state_dict(), f\"epoch: {epoch}\")"
      ],
      "metadata": {
        "colab": {
          "base_uri": "https://localhost:8080/"
        },
        "id": "JPaV1Tr0Xona",
        "outputId": "c3a7f6a9-09d5-4219-ed25-f4bde014c96a"
      },
      "execution_count": 22,
      "outputs": [
        {
          "output_type": "stream",
          "name": "stdout",
          "text": [
            "---\n",
            "Epoch: 0 | Train Loss 0.8606915791829427 | Val Loss 0.6781526843706767\n",
            "---\n",
            "Epoch: 10 | Train Loss 0.157571479678154 | Val Loss 0.1472970277070999\n",
            "---\n",
            "Epoch: 20 | Train Loss 0.09127146750688553 | Val Loss 0.09314400454362233\n",
            "---\n",
            "Epoch: 30 | Train Loss 0.07200307125846545 | Val Loss 0.061171760658423106\n",
            "---\n",
            "Epoch: 40 | Train Loss 0.05668814107775688 | Val Loss 0.05791905398170153\n",
            "---\n",
            "Epoch: 50 | Train Loss 0.0472418246169885 | Val Loss 0.04888762459158898\n",
            "---\n",
            "Epoch: 60 | Train Loss 0.044136946896711986 | Val Loss 0.044768662005662915\n",
            "---\n",
            "Epoch: 70 | Train Loss 0.040739249686400095 | Val Loss 0.041110216577847795\n",
            "---\n",
            "Epoch: 80 | Train Loss 0.044535591701666516 | Val Loss 0.03797693674763044\n",
            "---\n",
            "Epoch: 90 | Train Loss 0.0353089340031147 | Val Loss 0.032133104155460994\n"
          ]
        }
      ]
    },
    {
      "cell_type": "markdown",
      "source": [
        "# Plots"
      ],
      "metadata": {
        "id": "6UHTUADig1VG"
      }
    },
    {
      "cell_type": "markdown",
      "source": [
        "## Generating images"
      ],
      "metadata": {
        "id": "CLGKffCmg7w1"
      }
    },
    {
      "cell_type": "code",
      "source": [
        "# Define the number of rows and columns in the grid\n",
        "num_rows = len(classes)\n",
        "num_cols = 5\n",
        "\n",
        "# Create a new figure for the grid\n",
        "fig, axes = plt.subplots(num_rows, num_cols, figsize=(15, 15))\n",
        "\n",
        "# Iterate through each class\n",
        "for cc, class_name in enumerate(classes):\n",
        "    # Iterate through 5 examples for each class\n",
        "    for example_index in range(5):\n",
        "        img = torch.randn((1, 3) + IMAGE_SHAPE).to(device)\n",
        "        for i in reversed(range(diffusion_model.timesteps)):\n",
        "            t = torch.full((1,), i, dtype=torch.long, device=device)\n",
        "            labels = torch.tensor([0]*1).resize(1, 1).float().to(device)\n",
        "            img = diffusion_model.backward(x=img, t=t, model=unet.eval().to(device), labels=labels)\n",
        "\n",
        "        # Display the image in the corresponding subplot\n",
        "        ax = axes[cc, example_index]\n",
        "        ax.imshow(reverse_transform(img.squeeze()))\n",
        "        ax.set_title(class_name)\n",
        "        ax.axis('off')\n",
        "\n",
        "# Show the grid of images\n",
        "plt.tight_layout()\n",
        "plt.show()\n"
      ],
      "metadata": {
        "id": "4QZRDVSJDmS9",
        "colab": {
          "base_uri": "https://localhost:8080/",
          "height": 1000
        },
        "outputId": "b747cd75-bdf7-4750-a39f-8b63a8fad5da"
      },
      "execution_count": 56,
      "outputs": [
        {
          "output_type": "stream",
          "name": "stderr",
          "text": [
            "/usr/local/lib/python3.10/dist-packages/torch/_tensor.py:836: UserWarning: non-inplace resize is deprecated\n",
            "  warnings.warn(\"non-inplace resize is deprecated\")\n"
          ]
        },
        {
          "output_type": "display_data",
          "data": {
            "text/plain": [
              "<Figure size 1500x1500 with 25 Axes>"
            ],
            "image/png": "[encoded data removed]"
          },
          "metadata": {}
        }
      ]
    },
    {
      "cell_type": "markdown",
      "source": [
        "## Losses"
      ],
      "metadata": {
        "id": "EaYmAUAEg_0n"
      }
    },
    {
      "cell_type": "code",
      "source": [
        "plt.plot(epoch_loss, label='Train Loss')\n",
        "plt.plot(epoch_loss_val, label='Validation Loss')\n",
        "\n",
        "plt.xlabel('Epochs')\n",
        "plt.ylabel('Loss')\n",
        "\n",
        "plt.legend()\n",
        "\n",
        "plt.show()"
      ],
      "metadata": {
        "id": "DaJeY4AdMKOf",
        "colab": {
          "base_uri": "https://localhost:8080/",
          "height": 449
        },
        "outputId": "43de38e4-c5a5-46a5-d90d-275d0b4ad40d"
      },
      "execution_count": 74,
      "outputs": [
        {
          "output_type": "display_data",
          "data": {
            "text/plain": [
              "<Figure size 640x480 with 1 Axes>"
            ],
            "image/png": "[encoded data removed]"
          },
          "metadata": {}
        }
      ]
    },
    {
      "cell_type": "markdown",
      "source": [
        "## Turn images into GIF"
      ],
      "metadata": {
        "id": "h5HOtd9ggxiV"
      }
    },
    {
      "cell_type": "code",
      "source": [
        "to_gif_pil = [reverse_transform(x) for x in to_gif]"
      ],
      "metadata": {
        "id": "MA-gHkbLaKk7"
      },
      "execution_count": 62,
      "outputs": []
    },
    {
      "cell_type": "code",
      "source": [
        "SAVE_PATH = '/content/drive/MyDrive/LAMIA_final-project/Rice-dataset/GIF/'\n",
        "for i, img in enumerate(to_gif_pil):\n",
        "  img = img.resize((512, 512))\n",
        "  img.save(f'{SAVE_PATH}epoch-{i}.jpg')"
      ],
      "metadata": {
        "id": "JKgNc1LgajZq"
      },
      "execution_count": 63,
      "outputs": []
    },
    {
      "cell_type": "code",
      "source": [
        "def make_gif(frame_folder):\n",
        "    frames = [Image.open(image) for image in glob.glob(f\"{frame_folder}*.jpg\")]\n",
        "    frame_one = frames[0]\n",
        "    frame_one.save(f'{SAVE_PATH}rice-stable-diffusion.gif', format=\"GIF\", append_images=frames,\n",
        "               save_all=True, duration=500, loop=0)"
      ],
      "metadata": {
        "id": "xNclj9aZc0Uc"
      },
      "execution_count": 64,
      "outputs": []
    },
    {
      "cell_type": "code",
      "source": [
        "from PIL import Image\n",
        "make_gif(SAVE_PATH)"
      ],
      "metadata": {
        "id": "hy9qR-zqdK7d"
      },
      "execution_count": 67,
      "outputs": []
    }
  ]
}